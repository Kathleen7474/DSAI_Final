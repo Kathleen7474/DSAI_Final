{
 "cells": [
  {
   "cell_type": "markdown",
   "id": "122fc400",
   "metadata": {
    "papermill": {
     "duration": 0.027759,
     "end_time": "2022-06-05T15:40:55.714110",
     "exception": false,
     "start_time": "2022-06-05T15:40:55.686351",
     "status": "completed"
    },
    "tags": []
   },
   "source": [
    "# JPX Tokyo Stock Exchange Prediction <span style=\"color:DarkCyan\"> with LGBM</span>"
   ]
  },
  {
   "cell_type": "markdown",
   "id": "77716490",
   "metadata": {
    "papermill": {
     "duration": 0.026558,
     "end_time": "2022-06-05T15:40:55.767080",
     "exception": false,
     "start_time": "2022-06-05T15:40:55.740522",
     "status": "completed"
    },
    "tags": []
   },
   "source": [
    "Thank you for viewing my notebook, I hope you enjoy it 📊<br>\n",
    "Don't hesitate to leave any feedback 😉"
   ]
  },
  {
   "cell_type": "markdown",
   "id": "1c31d7a4",
   "metadata": {
    "papermill": {
     "duration": 0.028342,
     "end_time": "2022-06-05T15:40:55.825203",
     "exception": false,
     "start_time": "2022-06-05T15:40:55.796861",
     "status": "completed"
    },
    "tags": []
   },
   "source": [
    "# Table of Contents\n",
    "1. [Overview](#Overview)\n",
    "1. [Load JPX data](#Load-JPX-data)\n",
    "2. [Preprocess](#Preprocess)\n",
    "3. [Train the LGBM Model](#Train-the-LGBM-Model)\n",
    "4. [Predict Test Data](#Predict-Test-Data)\n",
    "5. [Submit](#Submit)"
   ]
  },
  {
   "cell_type": "markdown",
   "id": "9a5dfc74",
   "metadata": {
    "papermill": {
     "duration": 0.025971,
     "end_time": "2022-06-05T15:40:55.878912",
     "exception": false,
     "start_time": "2022-06-05T15:40:55.852941",
     "status": "completed"
    },
    "tags": []
   },
   "source": [
    "# Overview"
   ]
  },
  {
   "cell_type": "markdown",
   "id": "a08a32e5",
   "metadata": {
    "papermill": {
     "duration": 0.025927,
     "end_time": "2022-06-05T15:40:55.930890",
     "exception": false,
     "start_time": "2022-06-05T15:40:55.904963",
     "status": "completed"
    },
    "tags": []
   },
   "source": [
    "In this notebook, I will build a <span style=\"color:DarkCyan\">Light Gradient Boosting Model</span> for the [JPX Tokyo Stock Exchange Prediction Competition](https://www.kaggle.com/competitions/jpx-tokyo-stock-exchange-prediction)."
   ]
  },
  {
   "cell_type": "markdown",
   "id": "b8b09f67",
   "metadata": {
    "execution": {
     "iopub.execute_input": "2022-05-21T17:23:16.785436Z",
     "iopub.status.busy": "2022-05-21T17:23:16.785042Z",
     "iopub.status.idle": "2022-05-21T17:23:16.807887Z",
     "shell.execute_reply": "2022-05-21T17:23:16.807231Z",
     "shell.execute_reply.started": "2022-05-21T17:23:16.785345Z"
    },
    "papermill": {
     "duration": 0.026724,
     "end_time": "2022-06-05T15:40:55.985138",
     "exception": false,
     "start_time": "2022-06-05T15:40:55.958414",
     "status": "completed"
    },
    "tags": []
   },
   "source": [
    "### Quick introduction to <span style=\"color:DarkCyan\">LGBM</span>"
   ]
  },
  {
   "cell_type": "markdown",
   "id": "1a6f657e",
   "metadata": {
    "papermill": {
     "duration": 0.025993,
     "end_time": "2022-06-05T15:40:56.037348",
     "exception": false,
     "start_time": "2022-06-05T15:40:56.011355",
     "status": "completed"
    },
    "tags": []
   },
   "source": [
    "[Light GBM](https://medium.com/@pushkarmandot/https-medium-com-pushkarmandot-what-is-lightgbm-how-to-implement-it-how-to-fine-tune-the-parameters-60347819b7fc) is a gradient boosting model that uses decision tree algorithm.<br>\n",
    "<span style=\"color:DarkCyan\">Light GBM</span> grows tree vertically while other gradient boosting algorithms (e.g. XGBoost) grow trees horizontally.<br>\n",
    "<span style=\"color:DarkCyan\">LGBM</span> chooses the leaf with max delta loss to grow. Holding leaf fixed, leaf-wise algorithms tend to achieve lower loss than level-wise algorithms."
   ]
  },
  {
   "cell_type": "code",
   "execution_count": 1,
   "id": "e7c15ee5",
   "metadata": {
    "_cell_guid": "82ba0dd7-c919-42f8-8898-3b32b11a4ec1",
    "_uuid": "3ce4494f-66a9-4bfb-a606-17da929f9465",
    "collapsed": false,
    "execution": {
     "iopub.execute_input": "2022-06-05T15:40:56.092768Z",
     "iopub.status.busy": "2022-06-05T15:40:56.092178Z",
     "iopub.status.idle": "2022-06-05T15:40:59.357384Z",
     "shell.execute_reply": "2022-06-05T15:40:59.356646Z"
    },
    "jupyter": {
     "outputs_hidden": false
    },
    "papermill": {
     "duration": 3.295638,
     "end_time": "2022-06-05T15:40:59.359892",
     "exception": false,
     "start_time": "2022-06-05T15:40:56.064254",
     "status": "completed"
    },
    "tags": []
   },
   "outputs": [
    {
     "data": {
      "text/html": [
       "<style type='text/css'>\n",
       ".datatable table.frame { margin-bottom: 0; }\n",
       ".datatable table.frame thead { border-bottom: none; }\n",
       ".datatable table.frame tr.coltypes td {  color: #FFFFFF;  line-height: 6px;  padding: 0 0.5em;}\n",
       ".datatable .bool    { background: #DDDD99; }\n",
       ".datatable .object  { background: #565656; }\n",
       ".datatable .int     { background: #5D9E5D; }\n",
       ".datatable .float   { background: #4040CC; }\n",
       ".datatable .str     { background: #CC4040; }\n",
       ".datatable .time    { background: #40CC40; }\n",
       ".datatable .row_index {  background: var(--jp-border-color3);  border-right: 1px solid var(--jp-border-color0);  color: var(--jp-ui-font-color3);  font-size: 9px;}\n",
       ".datatable .frame tbody td { text-align: left; }\n",
       ".datatable .frame tr.coltypes .row_index {  background: var(--jp-border-color0);}\n",
       ".datatable th:nth-child(2) { padding-left: 12px; }\n",
       ".datatable .hellipsis {  color: var(--jp-cell-editor-border-color);}\n",
       ".datatable .vellipsis {  background: var(--jp-layout-color0);  color: var(--jp-cell-editor-border-color);}\n",
       ".datatable .na {  color: var(--jp-cell-editor-border-color);  font-size: 80%;}\n",
       ".datatable .sp {  opacity: 0.25;}\n",
       ".datatable .footer { font-size: 9px; }\n",
       ".datatable .frame_dimensions {  background: var(--jp-border-color3);  border-top: 1px solid var(--jp-border-color0);  color: var(--jp-ui-font-color3);  display: inline-block;  opacity: 0.6;  padding: 1px 10px 1px 5px;}\n",
       "</style>\n"
      ],
      "text/plain": [
       "<IPython.core.display.HTML object>"
      ]
     },
     "metadata": {},
     "output_type": "display_data"
    }
   ],
   "source": [
    "import numpy as np\n",
    "import pandas as pd\n",
    "from pathlib import Path\n",
    "from sklearn.model_selection import train_test_split\n",
    "import lightgbm as lgb\n",
    "import jpx_tokyo_market_prediction\n",
    "\n",
    "pd.set_option('display.max_columns', 100)"
   ]
  },
  {
   "cell_type": "code",
   "execution_count": 2,
   "id": "77c3d5d3",
   "metadata": {
    "_cell_guid": "7bcf28ff-07cb-4beb-8958-bdd82ef34c28",
    "_uuid": "902b718f-f092-4a54-84a6-9da7cef68914",
    "collapsed": false,
    "execution": {
     "iopub.execute_input": "2022-06-05T15:40:59.416543Z",
     "iopub.status.busy": "2022-06-05T15:40:59.416340Z",
     "iopub.status.idle": "2022-06-05T15:40:59.422091Z",
     "shell.execute_reply": "2022-06-05T15:40:59.421306Z"
    },
    "jupyter": {
     "outputs_hidden": false
    },
    "papermill": {
     "duration": 0.035714,
     "end_time": "2022-06-05T15:40:59.424050",
     "exception": false,
     "start_time": "2022-06-05T15:40:59.388336",
     "status": "completed"
    },
    "tags": []
   },
   "outputs": [],
   "source": [
    "# 我亂改版\n",
    "lgbm_params = {\n",
    "    'task': 'train',\n",
    "    'boosting_type': 'gbdt',  # gbdt - traditional Gradient Boosting Decision Tree\n",
    "    'objective': 'regression',  # L2 loss\n",
    "    'metric': 'mae',\n",
    "    'learning_rate': 0.1,\n",
    "    'lambda_l1': 0.5,  # L1 regularization\n",
    "    'lambda_l2': 0.5,  # L2 regularization\n",
    "    'num_leaves': 100,\n",
    "    'feature_fraction': 0.5,  # LightGBM will select 50% of features before training each tree\n",
    "    'bagging_fraction': 0.5,  # LightGBM will select 50% part of data without resampling\n",
    "    'bagging_freq': 5,  #  perform bagging at every k iteration\n",
    "    'min_child_samples': 10,\n",
    "    'seed': 42\n",
    "}\n",
    "# 原始版\n",
    "# lgbm_params = {\n",
    "#     'task': 'train',\n",
    "#     'boosting_type': 'gbdt',  # gbdt - traditional Gradient Boosting Decision Tree\n",
    "#     'objective': 'regression',  # L2 loss\n",
    "#     'metric': 'rmse',\n",
    "#     'learning_rate': 0.05,\n",
    "#     'lambda_l1': 0.5,  # L1 regularization\n",
    "#     'lambda_l2': 0.5,  # L2 regularization\n",
    "#     'num_leaves': 10,\n",
    "#     'feature_fraction': 0.5,  # LightGBM will select 50% of features before training each tree\n",
    "#     'bagging_fraction': 0.5,  # LightGBM will select 50% part of data without resampling\n",
    "#     'bagging_freq': 5,  #  perform bagging at every k iteration\n",
    "#     'min_child_samples': 10,\n",
    "#     'seed': 42\n",
    "# }\n"
   ]
  },
  {
   "cell_type": "markdown",
   "id": "6f42be6b",
   "metadata": {
    "papermill": {
     "duration": 0.027272,
     "end_time": "2022-06-05T15:40:59.478274",
     "exception": false,
     "start_time": "2022-06-05T15:40:59.451002",
     "status": "completed"
    },
    "tags": []
   },
   "source": [
    "Load datasets"
   ]
  },
  {
   "cell_type": "markdown",
   "id": "a39f9855",
   "metadata": {
    "papermill": {
     "duration": 0.026787,
     "end_time": "2022-06-05T15:40:59.533656",
     "exception": false,
     "start_time": "2022-06-05T15:40:59.506869",
     "status": "completed"
    },
    "tags": []
   },
   "source": [
    "# Load JPX data"
   ]
  },
  {
   "cell_type": "code",
   "execution_count": 3,
   "id": "24629a37",
   "metadata": {
    "_cell_guid": "81099b8e-8a34-4874-82b0-3c3bd8f36fda",
    "_uuid": "473fd34a-f2b6-425b-80fb-2e9adfa2dc11",
    "collapsed": false,
    "execution": {
     "iopub.execute_input": "2022-06-05T15:40:59.588935Z",
     "iopub.status.busy": "2022-06-05T15:40:59.588726Z",
     "iopub.status.idle": "2022-06-05T15:41:04.999257Z",
     "shell.execute_reply": "2022-06-05T15:41:04.998489Z"
    },
    "jupyter": {
     "outputs_hidden": false
    },
    "papermill": {
     "duration": 5.440849,
     "end_time": "2022-06-05T15:41:05.001340",
     "exception": false,
     "start_time": "2022-06-05T15:40:59.560491",
     "status": "completed"
    },
    "tags": []
   },
   "outputs": [],
   "source": [
    "file_path = '/kaggle/input/jpx-tokyo-stock-exchange-prediction/'\n",
    "prices = pd.read_csv(Path(file_path, 'train_files/stock_prices.csv'))\n",
    "stock_list = pd.read_csv(Path(file_path, 'stock_list.csv'))"
   ]
  },
  {
   "cell_type": "code",
   "execution_count": 4,
   "id": "52dda28e",
   "metadata": {
    "execution": {
     "iopub.execute_input": "2022-06-05T15:41:05.058491Z",
     "iopub.status.busy": "2022-06-05T15:41:05.058266Z",
     "iopub.status.idle": "2022-06-05T15:41:05.080410Z",
     "shell.execute_reply": "2022-06-05T15:41:05.079786Z"
    },
    "papermill": {
     "duration": 0.051989,
     "end_time": "2022-06-05T15:41:05.082024",
     "exception": false,
     "start_time": "2022-06-05T15:41:05.030035",
     "status": "completed"
    },
    "tags": []
   },
   "outputs": [
    {
     "data": {
      "text/html": [
       "<div>\n",
       "<style scoped>\n",
       "    .dataframe tbody tr th:only-of-type {\n",
       "        vertical-align: middle;\n",
       "    }\n",
       "\n",
       "    .dataframe tbody tr th {\n",
       "        vertical-align: top;\n",
       "    }\n",
       "\n",
       "    .dataframe thead th {\n",
       "        text-align: right;\n",
       "    }\n",
       "</style>\n",
       "<table border=\"1\" class=\"dataframe\">\n",
       "  <thead>\n",
       "    <tr style=\"text-align: right;\">\n",
       "      <th></th>\n",
       "      <th>RowId</th>\n",
       "      <th>Date</th>\n",
       "      <th>SecuritiesCode</th>\n",
       "      <th>Open</th>\n",
       "      <th>High</th>\n",
       "      <th>Low</th>\n",
       "      <th>Close</th>\n",
       "      <th>Volume</th>\n",
       "      <th>AdjustmentFactor</th>\n",
       "      <th>ExpectedDividend</th>\n",
       "      <th>SupervisionFlag</th>\n",
       "      <th>Target</th>\n",
       "    </tr>\n",
       "  </thead>\n",
       "  <tbody>\n",
       "    <tr>\n",
       "      <th>0</th>\n",
       "      <td>20170104_1301</td>\n",
       "      <td>2017-01-04</td>\n",
       "      <td>1301</td>\n",
       "      <td>2734.0</td>\n",
       "      <td>2755.0</td>\n",
       "      <td>2730.0</td>\n",
       "      <td>2742.0</td>\n",
       "      <td>31400</td>\n",
       "      <td>1.0</td>\n",
       "      <td>NaN</td>\n",
       "      <td>False</td>\n",
       "      <td>0.000730</td>\n",
       "    </tr>\n",
       "    <tr>\n",
       "      <th>1</th>\n",
       "      <td>20170104_1332</td>\n",
       "      <td>2017-01-04</td>\n",
       "      <td>1332</td>\n",
       "      <td>568.0</td>\n",
       "      <td>576.0</td>\n",
       "      <td>563.0</td>\n",
       "      <td>571.0</td>\n",
       "      <td>2798500</td>\n",
       "      <td>1.0</td>\n",
       "      <td>NaN</td>\n",
       "      <td>False</td>\n",
       "      <td>0.012324</td>\n",
       "    </tr>\n",
       "    <tr>\n",
       "      <th>2</th>\n",
       "      <td>20170104_1333</td>\n",
       "      <td>2017-01-04</td>\n",
       "      <td>1333</td>\n",
       "      <td>3150.0</td>\n",
       "      <td>3210.0</td>\n",
       "      <td>3140.0</td>\n",
       "      <td>3210.0</td>\n",
       "      <td>270800</td>\n",
       "      <td>1.0</td>\n",
       "      <td>NaN</td>\n",
       "      <td>False</td>\n",
       "      <td>0.006154</td>\n",
       "    </tr>\n",
       "    <tr>\n",
       "      <th>3</th>\n",
       "      <td>20170104_1376</td>\n",
       "      <td>2017-01-04</td>\n",
       "      <td>1376</td>\n",
       "      <td>1510.0</td>\n",
       "      <td>1550.0</td>\n",
       "      <td>1510.0</td>\n",
       "      <td>1550.0</td>\n",
       "      <td>11300</td>\n",
       "      <td>1.0</td>\n",
       "      <td>NaN</td>\n",
       "      <td>False</td>\n",
       "      <td>0.011053</td>\n",
       "    </tr>\n",
       "    <tr>\n",
       "      <th>4</th>\n",
       "      <td>20170104_1377</td>\n",
       "      <td>2017-01-04</td>\n",
       "      <td>1377</td>\n",
       "      <td>3270.0</td>\n",
       "      <td>3350.0</td>\n",
       "      <td>3270.0</td>\n",
       "      <td>3330.0</td>\n",
       "      <td>150800</td>\n",
       "      <td>1.0</td>\n",
       "      <td>NaN</td>\n",
       "      <td>False</td>\n",
       "      <td>0.003026</td>\n",
       "    </tr>\n",
       "  </tbody>\n",
       "</table>\n",
       "</div>"
      ],
      "text/plain": [
       "           RowId        Date  SecuritiesCode    Open    High     Low   Close  \\\n",
       "0  20170104_1301  2017-01-04            1301  2734.0  2755.0  2730.0  2742.0   \n",
       "1  20170104_1332  2017-01-04            1332   568.0   576.0   563.0   571.0   \n",
       "2  20170104_1333  2017-01-04            1333  3150.0  3210.0  3140.0  3210.0   \n",
       "3  20170104_1376  2017-01-04            1376  1510.0  1550.0  1510.0  1550.0   \n",
       "4  20170104_1377  2017-01-04            1377  3270.0  3350.0  3270.0  3330.0   \n",
       "\n",
       "    Volume  AdjustmentFactor  ExpectedDividend  SupervisionFlag    Target  \n",
       "0    31400               1.0               NaN            False  0.000730  \n",
       "1  2798500               1.0               NaN            False  0.012324  \n",
       "2   270800               1.0               NaN            False  0.006154  \n",
       "3    11300               1.0               NaN            False  0.011053  \n",
       "4   150800               1.0               NaN            False  0.003026  "
      ]
     },
     "execution_count": 4,
     "metadata": {},
     "output_type": "execute_result"
    }
   ],
   "source": [
    "prices.head()"
   ]
  },
  {
   "cell_type": "markdown",
   "id": "321fc0f8",
   "metadata": {
    "papermill": {
     "duration": 0.027162,
     "end_time": "2022-06-05T15:41:05.136884",
     "exception": false,
     "start_time": "2022-06-05T15:41:05.109722",
     "status": "completed"
    },
    "tags": []
   },
   "source": [
    "Display information about main dataset"
   ]
  },
  {
   "cell_type": "code",
   "execution_count": 5,
   "id": "6d0cfbcb",
   "metadata": {
    "execution": {
     "iopub.execute_input": "2022-06-05T15:41:05.192562Z",
     "iopub.status.busy": "2022-06-05T15:41:05.192361Z",
     "iopub.status.idle": "2022-06-05T15:41:05.667653Z",
     "shell.execute_reply": "2022-06-05T15:41:05.666564Z"
    },
    "papermill": {
     "duration": 0.505293,
     "end_time": "2022-06-05T15:41:05.669515",
     "exception": false,
     "start_time": "2022-06-05T15:41:05.164222",
     "status": "completed"
    },
    "tags": []
   },
   "outputs": [
    {
     "name": "stdout",
     "output_type": "stream",
     "text": [
      "<class 'pandas.core.frame.DataFrame'>\n",
      "RangeIndex: 2332531 entries, 0 to 2332530\n",
      "Data columns (total 12 columns):\n",
      " #   Column            Non-Null Count    Dtype  \n",
      "---  ------            --------------    -----  \n",
      " 0   RowId             2332531 non-null  object \n",
      " 1   Date              2332531 non-null  object \n",
      " 2   SecuritiesCode    2332531 non-null  int64  \n",
      " 3   Open              2324923 non-null  float64\n",
      " 4   High              2324923 non-null  float64\n",
      " 5   Low               2324923 non-null  float64\n",
      " 6   Close             2324923 non-null  float64\n",
      " 7   Volume            2332531 non-null  int64  \n",
      " 8   AdjustmentFactor  2332531 non-null  float64\n",
      " 9   ExpectedDividend  18865 non-null    float64\n",
      " 10  SupervisionFlag   2332531 non-null  bool   \n",
      " 11  Target            2332293 non-null  float64\n",
      "dtypes: bool(1), float64(7), int64(2), object(2)\n",
      "memory usage: 198.0+ MB\n"
     ]
    }
   ],
   "source": [
    "prices.info(show_counts=True)"
   ]
  },
  {
   "cell_type": "markdown",
   "id": "9cdd3938",
   "metadata": {
    "papermill": {
     "duration": 0.028087,
     "end_time": "2022-06-05T15:41:05.725746",
     "exception": false,
     "start_time": "2022-06-05T15:41:05.697659",
     "status": "completed"
    },
    "tags": []
   },
   "source": []
  },
  {
   "cell_type": "markdown",
   "id": "6f8808a7",
   "metadata": {
    "papermill": {
     "duration": 0.027591,
     "end_time": "2022-06-05T15:41:05.781758",
     "exception": false,
     "start_time": "2022-06-05T15:41:05.754167",
     "status": "completed"
    },
    "tags": []
   },
   "source": [
    "# Preprocess"
   ]
  },
  {
   "cell_type": "markdown",
   "id": "06cc0a3b",
   "metadata": {
    "papermill": {
     "duration": 0.027745,
     "end_time": "2022-06-05T15:41:05.837452",
     "exception": false,
     "start_time": "2022-06-05T15:41:05.809707",
     "status": "completed"
    },
    "tags": []
   },
   "source": [
    "Manage data id: add variable describing how many days have passed from the beginning of the dataset "
   ]
  },
  {
   "cell_type": "code",
   "execution_count": 6,
   "id": "9d990db7",
   "metadata": {
    "_cell_guid": "82644a49-1fef-4ea1-9611-cc22070ae80b",
    "_uuid": "d73cefa8-8625-4afd-a516-5240ca5ff31f",
    "collapsed": false,
    "execution": {
     "iopub.execute_input": "2022-06-05T15:41:05.895214Z",
     "iopub.status.busy": "2022-06-05T15:41:05.894997Z",
     "iopub.status.idle": "2022-06-05T15:41:06.279214Z",
     "shell.execute_reply": "2022-06-05T15:41:06.278467Z"
    },
    "jupyter": {
     "outputs_hidden": false
    },
    "papermill": {
     "duration": 0.415504,
     "end_time": "2022-06-05T15:41:06.281433",
     "exception": false,
     "start_time": "2022-06-05T15:41:05.865929",
     "status": "completed"
    },
    "tags": []
   },
   "outputs": [],
   "source": [
    "# prices['Date']就是一串時間\n",
    "prices['Date'] = pd.to_datetime(prices['Date'])\n",
    "min_date = prices['Date'].min()\n",
    "prices['date_rank'] = (prices['Date'] - min_date).dt.days\n",
    "# date rank:ex 2017-01-04都是第一名"
   ]
  },
  {
   "cell_type": "code",
   "execution_count": 7,
   "id": "31fc1c77",
   "metadata": {
    "execution": {
     "iopub.execute_input": "2022-06-05T15:41:06.338920Z",
     "iopub.status.busy": "2022-06-05T15:41:06.338685Z",
     "iopub.status.idle": "2022-06-05T15:41:06.341697Z",
     "shell.execute_reply": "2022-06-05T15:41:06.341032Z"
    },
    "papermill": {
     "duration": 0.033501,
     "end_time": "2022-06-05T15:41:06.343414",
     "exception": false,
     "start_time": "2022-06-05T15:41:06.309913",
     "status": "completed"
    },
    "tags": []
   },
   "outputs": [],
   "source": [
    "# mask = prices['Date'] >= \"2019-12-31\"\n",
    "# prices = prices[mask]"
   ]
  },
  {
   "cell_type": "code",
   "execution_count": 8,
   "id": "7aacd998",
   "metadata": {
    "execution": {
     "iopub.execute_input": "2022-06-05T15:41:06.400139Z",
     "iopub.status.busy": "2022-06-05T15:41:06.399923Z",
     "iopub.status.idle": "2022-06-05T15:41:06.425067Z",
     "shell.execute_reply": "2022-06-05T15:41:06.424322Z"
    },
    "papermill": {
     "duration": 0.055988,
     "end_time": "2022-06-05T15:41:06.426934",
     "exception": false,
     "start_time": "2022-06-05T15:41:06.370946",
     "status": "completed"
    },
    "tags": []
   },
   "outputs": [
    {
     "data": {
      "text/html": [
       "<div>\n",
       "<style scoped>\n",
       "    .dataframe tbody tr th:only-of-type {\n",
       "        vertical-align: middle;\n",
       "    }\n",
       "\n",
       "    .dataframe tbody tr th {\n",
       "        vertical-align: top;\n",
       "    }\n",
       "\n",
       "    .dataframe thead th {\n",
       "        text-align: right;\n",
       "    }\n",
       "</style>\n",
       "<table border=\"1\" class=\"dataframe\">\n",
       "  <thead>\n",
       "    <tr style=\"text-align: right;\">\n",
       "      <th></th>\n",
       "      <th>RowId</th>\n",
       "      <th>Date</th>\n",
       "      <th>SecuritiesCode</th>\n",
       "      <th>Open</th>\n",
       "      <th>High</th>\n",
       "      <th>Low</th>\n",
       "      <th>Close</th>\n",
       "      <th>Volume</th>\n",
       "      <th>AdjustmentFactor</th>\n",
       "      <th>ExpectedDividend</th>\n",
       "      <th>SupervisionFlag</th>\n",
       "      <th>Target</th>\n",
       "      <th>date_rank</th>\n",
       "    </tr>\n",
       "  </thead>\n",
       "  <tbody>\n",
       "    <tr>\n",
       "      <th>0</th>\n",
       "      <td>20170104_1301</td>\n",
       "      <td>2017-01-04</td>\n",
       "      <td>1301</td>\n",
       "      <td>2734.0</td>\n",
       "      <td>2755.0</td>\n",
       "      <td>2730.0</td>\n",
       "      <td>2742.0</td>\n",
       "      <td>31400</td>\n",
       "      <td>1.0</td>\n",
       "      <td>NaN</td>\n",
       "      <td>False</td>\n",
       "      <td>0.000730</td>\n",
       "      <td>0</td>\n",
       "    </tr>\n",
       "    <tr>\n",
       "      <th>1</th>\n",
       "      <td>20170104_1332</td>\n",
       "      <td>2017-01-04</td>\n",
       "      <td>1332</td>\n",
       "      <td>568.0</td>\n",
       "      <td>576.0</td>\n",
       "      <td>563.0</td>\n",
       "      <td>571.0</td>\n",
       "      <td>2798500</td>\n",
       "      <td>1.0</td>\n",
       "      <td>NaN</td>\n",
       "      <td>False</td>\n",
       "      <td>0.012324</td>\n",
       "      <td>0</td>\n",
       "    </tr>\n",
       "    <tr>\n",
       "      <th>2</th>\n",
       "      <td>20170104_1333</td>\n",
       "      <td>2017-01-04</td>\n",
       "      <td>1333</td>\n",
       "      <td>3150.0</td>\n",
       "      <td>3210.0</td>\n",
       "      <td>3140.0</td>\n",
       "      <td>3210.0</td>\n",
       "      <td>270800</td>\n",
       "      <td>1.0</td>\n",
       "      <td>NaN</td>\n",
       "      <td>False</td>\n",
       "      <td>0.006154</td>\n",
       "      <td>0</td>\n",
       "    </tr>\n",
       "    <tr>\n",
       "      <th>3</th>\n",
       "      <td>20170104_1376</td>\n",
       "      <td>2017-01-04</td>\n",
       "      <td>1376</td>\n",
       "      <td>1510.0</td>\n",
       "      <td>1550.0</td>\n",
       "      <td>1510.0</td>\n",
       "      <td>1550.0</td>\n",
       "      <td>11300</td>\n",
       "      <td>1.0</td>\n",
       "      <td>NaN</td>\n",
       "      <td>False</td>\n",
       "      <td>0.011053</td>\n",
       "      <td>0</td>\n",
       "    </tr>\n",
       "    <tr>\n",
       "      <th>4</th>\n",
       "      <td>20170104_1377</td>\n",
       "      <td>2017-01-04</td>\n",
       "      <td>1377</td>\n",
       "      <td>3270.0</td>\n",
       "      <td>3350.0</td>\n",
       "      <td>3270.0</td>\n",
       "      <td>3330.0</td>\n",
       "      <td>150800</td>\n",
       "      <td>1.0</td>\n",
       "      <td>NaN</td>\n",
       "      <td>False</td>\n",
       "      <td>0.003026</td>\n",
       "      <td>0</td>\n",
       "    </tr>\n",
       "    <tr>\n",
       "      <th>...</th>\n",
       "      <td>...</td>\n",
       "      <td>...</td>\n",
       "      <td>...</td>\n",
       "      <td>...</td>\n",
       "      <td>...</td>\n",
       "      <td>...</td>\n",
       "      <td>...</td>\n",
       "      <td>...</td>\n",
       "      <td>...</td>\n",
       "      <td>...</td>\n",
       "      <td>...</td>\n",
       "      <td>...</td>\n",
       "      <td>...</td>\n",
       "    </tr>\n",
       "    <tr>\n",
       "      <th>2332526</th>\n",
       "      <td>20211203_9990</td>\n",
       "      <td>2021-12-03</td>\n",
       "      <td>9990</td>\n",
       "      <td>514.0</td>\n",
       "      <td>528.0</td>\n",
       "      <td>513.0</td>\n",
       "      <td>528.0</td>\n",
       "      <td>44200</td>\n",
       "      <td>1.0</td>\n",
       "      <td>NaN</td>\n",
       "      <td>False</td>\n",
       "      <td>0.034816</td>\n",
       "      <td>1794</td>\n",
       "    </tr>\n",
       "    <tr>\n",
       "      <th>2332527</th>\n",
       "      <td>20211203_9991</td>\n",
       "      <td>2021-12-03</td>\n",
       "      <td>9991</td>\n",
       "      <td>782.0</td>\n",
       "      <td>794.0</td>\n",
       "      <td>782.0</td>\n",
       "      <td>794.0</td>\n",
       "      <td>35900</td>\n",
       "      <td>1.0</td>\n",
       "      <td>NaN</td>\n",
       "      <td>False</td>\n",
       "      <td>0.025478</td>\n",
       "      <td>1794</td>\n",
       "    </tr>\n",
       "    <tr>\n",
       "      <th>2332528</th>\n",
       "      <td>20211203_9993</td>\n",
       "      <td>2021-12-03</td>\n",
       "      <td>9993</td>\n",
       "      <td>1690.0</td>\n",
       "      <td>1690.0</td>\n",
       "      <td>1645.0</td>\n",
       "      <td>1645.0</td>\n",
       "      <td>7200</td>\n",
       "      <td>1.0</td>\n",
       "      <td>NaN</td>\n",
       "      <td>False</td>\n",
       "      <td>-0.004302</td>\n",
       "      <td>1794</td>\n",
       "    </tr>\n",
       "    <tr>\n",
       "      <th>2332529</th>\n",
       "      <td>20211203_9994</td>\n",
       "      <td>2021-12-03</td>\n",
       "      <td>9994</td>\n",
       "      <td>2388.0</td>\n",
       "      <td>2396.0</td>\n",
       "      <td>2380.0</td>\n",
       "      <td>2389.0</td>\n",
       "      <td>6500</td>\n",
       "      <td>1.0</td>\n",
       "      <td>NaN</td>\n",
       "      <td>False</td>\n",
       "      <td>0.009098</td>\n",
       "      <td>1794</td>\n",
       "    </tr>\n",
       "    <tr>\n",
       "      <th>2332530</th>\n",
       "      <td>20211203_9997</td>\n",
       "      <td>2021-12-03</td>\n",
       "      <td>9997</td>\n",
       "      <td>690.0</td>\n",
       "      <td>711.0</td>\n",
       "      <td>686.0</td>\n",
       "      <td>696.0</td>\n",
       "      <td>381100</td>\n",
       "      <td>1.0</td>\n",
       "      <td>NaN</td>\n",
       "      <td>False</td>\n",
       "      <td>0.018414</td>\n",
       "      <td>1794</td>\n",
       "    </tr>\n",
       "  </tbody>\n",
       "</table>\n",
       "<p>2332531 rows × 13 columns</p>\n",
       "</div>"
      ],
      "text/plain": [
       "                 RowId       Date  SecuritiesCode    Open    High     Low  \\\n",
       "0        20170104_1301 2017-01-04            1301  2734.0  2755.0  2730.0   \n",
       "1        20170104_1332 2017-01-04            1332   568.0   576.0   563.0   \n",
       "2        20170104_1333 2017-01-04            1333  3150.0  3210.0  3140.0   \n",
       "3        20170104_1376 2017-01-04            1376  1510.0  1550.0  1510.0   \n",
       "4        20170104_1377 2017-01-04            1377  3270.0  3350.0  3270.0   \n",
       "...                ...        ...             ...     ...     ...     ...   \n",
       "2332526  20211203_9990 2021-12-03            9990   514.0   528.0   513.0   \n",
       "2332527  20211203_9991 2021-12-03            9991   782.0   794.0   782.0   \n",
       "2332528  20211203_9993 2021-12-03            9993  1690.0  1690.0  1645.0   \n",
       "2332529  20211203_9994 2021-12-03            9994  2388.0  2396.0  2380.0   \n",
       "2332530  20211203_9997 2021-12-03            9997   690.0   711.0   686.0   \n",
       "\n",
       "          Close   Volume  AdjustmentFactor  ExpectedDividend  SupervisionFlag  \\\n",
       "0        2742.0    31400               1.0               NaN            False   \n",
       "1         571.0  2798500               1.0               NaN            False   \n",
       "2        3210.0   270800               1.0               NaN            False   \n",
       "3        1550.0    11300               1.0               NaN            False   \n",
       "4        3330.0   150800               1.0               NaN            False   \n",
       "...         ...      ...               ...               ...              ...   \n",
       "2332526   528.0    44200               1.0               NaN            False   \n",
       "2332527   794.0    35900               1.0               NaN            False   \n",
       "2332528  1645.0     7200               1.0               NaN            False   \n",
       "2332529  2389.0     6500               1.0               NaN            False   \n",
       "2332530   696.0   381100               1.0               NaN            False   \n",
       "\n",
       "           Target  date_rank  \n",
       "0        0.000730          0  \n",
       "1        0.012324          0  \n",
       "2        0.006154          0  \n",
       "3        0.011053          0  \n",
       "4        0.003026          0  \n",
       "...           ...        ...  \n",
       "2332526  0.034816       1794  \n",
       "2332527  0.025478       1794  \n",
       "2332528 -0.004302       1794  \n",
       "2332529  0.009098       1794  \n",
       "2332530  0.018414       1794  \n",
       "\n",
       "[2332531 rows x 13 columns]"
      ]
     },
     "execution_count": 8,
     "metadata": {},
     "output_type": "execute_result"
    }
   ],
   "source": [
    "prices"
   ]
  },
  {
   "cell_type": "code",
   "execution_count": 9,
   "id": "4c4c68d0",
   "metadata": {
    "_cell_guid": "aa77a40b-041a-4878-aa7f-09fad7e2a440",
    "_uuid": "36e29f03-1c69-4070-823e-f79793a424e8",
    "collapsed": false,
    "execution": {
     "iopub.execute_input": "2022-06-05T15:41:06.484729Z",
     "iopub.status.busy": "2022-06-05T15:41:06.484546Z",
     "iopub.status.idle": "2022-06-05T15:41:06.488041Z",
     "shell.execute_reply": "2022-06-05T15:41:06.487277Z"
    },
    "jupyter": {
     "outputs_hidden": false
    },
    "papermill": {
     "duration": 0.034178,
     "end_time": "2022-06-05T15:41:06.489822",
     "exception": false,
     "start_time": "2022-06-05T15:41:06.455644",
     "status": "completed"
    },
    "tags": []
   },
   "outputs": [],
   "source": [
    "features = ['Open', 'High', 'Low', 'Close', 'Volume', 'date_rank', 'SecuritiesCode']"
   ]
  },
  {
   "cell_type": "markdown",
   "id": "08029d54",
   "metadata": {
    "papermill": {
     "duration": 0.027989,
     "end_time": "2022-06-05T15:41:06.546380",
     "exception": false,
     "start_time": "2022-06-05T15:41:06.518391",
     "status": "completed"
    },
    "tags": []
   },
   "source": [
    "Choose features to use as independent variables in the model"
   ]
  },
  {
   "cell_type": "code",
   "execution_count": 10,
   "id": "a8e2f776",
   "metadata": {
    "_cell_guid": "3d39c168-943f-46dd-a7d9-7a5864a233d5",
    "_uuid": "c78704e4-3401-4df6-b9e1-3dddca1738e5",
    "collapsed": false,
    "execution": {
     "iopub.execute_input": "2022-06-05T15:41:06.604521Z",
     "iopub.status.busy": "2022-06-05T15:41:06.604328Z",
     "iopub.status.idle": "2022-06-05T15:41:06.879745Z",
     "shell.execute_reply": "2022-06-05T15:41:06.878964Z"
    },
    "jupyter": {
     "outputs_hidden": false
    },
    "papermill": {
     "duration": 0.306796,
     "end_time": "2022-06-05T15:41:06.881997",
     "exception": false,
     "start_time": "2022-06-05T15:41:06.575201",
     "status": "completed"
    },
    "tags": []
   },
   "outputs": [],
   "source": [
    "# dropna拔掉空值\n",
    "prices = prices.dropna(subset=features)"
   ]
  },
  {
   "cell_type": "code",
   "execution_count": 11,
   "id": "5ac0b998",
   "metadata": {
    "_cell_guid": "d841e782-1a5e-48a1-8cd8-d795b028a39c",
    "_uuid": "20b0c4e1-02e7-44ad-897e-202cb45b1b7d",
    "collapsed": false,
    "execution": {
     "iopub.execute_input": "2022-06-05T15:41:06.940710Z",
     "iopub.status.busy": "2022-06-05T15:41:06.940137Z",
     "iopub.status.idle": "2022-06-05T15:41:06.950966Z",
     "shell.execute_reply": "2022-06-05T15:41:06.950323Z"
    },
    "jupyter": {
     "outputs_hidden": false
    },
    "papermill": {
     "duration": 0.04203,
     "end_time": "2022-06-05T15:41:06.952644",
     "exception": false,
     "start_time": "2022-06-05T15:41:06.910614",
     "status": "completed"
    },
    "tags": []
   },
   "outputs": [],
   "source": [
    "# pop出target，prices中就沒有target了\n",
    "target = prices.pop('Target')\n",
    "target_mean = target.mean()"
   ]
  },
  {
   "cell_type": "code",
   "execution_count": 12,
   "id": "927d5ba0",
   "metadata": {
    "_cell_guid": "accaae2b-c56f-4730-88d0-e9b25b26399b",
    "_uuid": "bfc4d7b8-b69a-42b3-94bb-45c11251df8e",
    "collapsed": false,
    "execution": {
     "iopub.execute_input": "2022-06-05T15:41:07.011119Z",
     "iopub.status.busy": "2022-06-05T15:41:07.010919Z",
     "iopub.status.idle": "2022-06-05T15:41:07.705455Z",
     "shell.execute_reply": "2022-06-05T15:41:07.704721Z"
    },
    "jupyter": {
     "outputs_hidden": false
    },
    "papermill": {
     "duration": 0.726123,
     "end_time": "2022-06-05T15:41:07.707585",
     "exception": false,
     "start_time": "2022-06-05T15:41:06.981462",
     "status": "completed"
    },
    "tags": []
   },
   "outputs": [],
   "source": [
    "# train_test_split分割成training data 和testing data\n",
    "train_f, valid_f = train_test_split(prices[features], test_size=0.2)\n",
    "train_idx = train_f.index\n",
    "valid_idx = valid_f.index\n",
    "# 直接告訴他正確答案，所以這個model預測的是target\n",
    "lgb_train = lgb.Dataset(train_f, target[train_idx])\n",
    "lgb_valid = lgb.Dataset(valid_f, target[valid_idx], reference=lgb_train)"
   ]
  },
  {
   "cell_type": "code",
   "execution_count": 13,
   "id": "98816ae1",
   "metadata": {
    "_cell_guid": "ac843688-567a-4214-ac61-48ac2acab668",
    "_uuid": "c4b341c8-9816-4fef-9cfa-38193ac22d4d",
    "collapsed": false,
    "execution": {
     "iopub.execute_input": "2022-06-05T15:41:07.765545Z",
     "iopub.status.busy": "2022-06-05T15:41:07.765325Z",
     "iopub.status.idle": "2022-06-05T15:41:07.781397Z",
     "shell.execute_reply": "2022-06-05T15:41:07.779600Z"
    },
    "jupyter": {
     "outputs_hidden": false
    },
    "papermill": {
     "duration": 0.053298,
     "end_time": "2022-06-05T15:41:07.789486",
     "exception": false,
     "start_time": "2022-06-05T15:41:07.736188",
     "status": "completed"
    },
    "tags": []
   },
   "outputs": [
    {
     "data": {
      "text/html": [
       "<div>\n",
       "<style scoped>\n",
       "    .dataframe tbody tr th:only-of-type {\n",
       "        vertical-align: middle;\n",
       "    }\n",
       "\n",
       "    .dataframe tbody tr th {\n",
       "        vertical-align: top;\n",
       "    }\n",
       "\n",
       "    .dataframe thead th {\n",
       "        text-align: right;\n",
       "    }\n",
       "</style>\n",
       "<table border=\"1\" class=\"dataframe\">\n",
       "  <thead>\n",
       "    <tr style=\"text-align: right;\">\n",
       "      <th></th>\n",
       "      <th>Open</th>\n",
       "      <th>High</th>\n",
       "      <th>Low</th>\n",
       "      <th>Close</th>\n",
       "      <th>Volume</th>\n",
       "      <th>date_rank</th>\n",
       "      <th>SecuritiesCode</th>\n",
       "    </tr>\n",
       "  </thead>\n",
       "  <tbody>\n",
       "    <tr>\n",
       "      <th>618790</th>\n",
       "      <td>4455.0</td>\n",
       "      <td>4460.0</td>\n",
       "      <td>4420.0</td>\n",
       "      <td>4450.0</td>\n",
       "      <td>5900</td>\n",
       "      <td>488</td>\n",
       "      <td>7564</td>\n",
       "    </tr>\n",
       "    <tr>\n",
       "      <th>2216937</th>\n",
       "      <td>1980.0</td>\n",
       "      <td>2080.0</td>\n",
       "      <td>1978.0</td>\n",
       "      <td>2075.0</td>\n",
       "      <td>156600</td>\n",
       "      <td>1709</td>\n",
       "      <td>3458</td>\n",
       "    </tr>\n",
       "    <tr>\n",
       "      <th>2051298</th>\n",
       "      <td>1160.0</td>\n",
       "      <td>1186.0</td>\n",
       "      <td>1041.0</td>\n",
       "      <td>1079.0</td>\n",
       "      <td>157800</td>\n",
       "      <td>1589</td>\n",
       "      <td>4800</td>\n",
       "    </tr>\n",
       "    <tr>\n",
       "      <th>669843</th>\n",
       "      <td>845.0</td>\n",
       "      <td>851.0</td>\n",
       "      <td>840.0</td>\n",
       "      <td>841.0</td>\n",
       "      <td>94500</td>\n",
       "      <td>525</td>\n",
       "      <td>6330</td>\n",
       "    </tr>\n",
       "    <tr>\n",
       "      <th>395741</th>\n",
       "      <td>1411.0</td>\n",
       "      <td>1437.0</td>\n",
       "      <td>1401.0</td>\n",
       "      <td>1422.0</td>\n",
       "      <td>16800</td>\n",
       "      <td>309</td>\n",
       "      <td>1712</td>\n",
       "    </tr>\n",
       "  </tbody>\n",
       "</table>\n",
       "</div>"
      ],
      "text/plain": [
       "           Open    High     Low   Close  Volume  date_rank  SecuritiesCode\n",
       "618790   4455.0  4460.0  4420.0  4450.0    5900        488            7564\n",
       "2216937  1980.0  2080.0  1978.0  2075.0  156600       1709            3458\n",
       "2051298  1160.0  1186.0  1041.0  1079.0  157800       1589            4800\n",
       "669843    845.0   851.0   840.0   841.0   94500        525            6330\n",
       "395741   1411.0  1437.0  1401.0  1422.0   16800        309            1712"
      ]
     },
     "execution_count": 13,
     "metadata": {},
     "output_type": "execute_result"
    }
   ],
   "source": [
    "train_f.head()"
   ]
  },
  {
   "cell_type": "markdown",
   "id": "e22dd22a",
   "metadata": {
    "papermill": {
     "duration": 0.057056,
     "end_time": "2022-06-05T15:41:07.907544",
     "exception": false,
     "start_time": "2022-06-05T15:41:07.850488",
     "status": "completed"
    },
    "tags": []
   },
   "source": [
    "# Train the <span style=\"color:DarkCyan\">LGBM</span> Model"
   ]
  },
  {
   "cell_type": "code",
   "execution_count": 14,
   "id": "75bebf15",
   "metadata": {
    "_cell_guid": "ac843688-567a-4214-ac61-48ac2acab668",
    "_uuid": "c4b341c8-9816-4fef-9cfa-38193ac22d4d",
    "collapsed": false,
    "execution": {
     "iopub.execute_input": "2022-06-05T15:41:08.007681Z",
     "iopub.status.busy": "2022-06-05T15:41:08.007387Z",
     "iopub.status.idle": "2022-06-05T15:42:04.249176Z",
     "shell.execute_reply": "2022-06-05T15:42:04.248417Z"
    },
    "jupyter": {
     "outputs_hidden": false
    },
    "papermill": {
     "duration": 56.293835,
     "end_time": "2022-06-05T15:42:04.252463",
     "exception": false,
     "start_time": "2022-06-05T15:41:07.958628",
     "status": "completed"
    },
    "tags": []
   },
   "outputs": [
    {
     "name": "stderr",
     "output_type": "stream",
     "text": [
      "/opt/conda/lib/python3.7/site-packages/lightgbm/engine.py:181: UserWarning: 'early_stopping_rounds' argument is deprecated and will be removed in a future release of LightGBM. Pass 'early_stopping()' callback via 'callbacks' argument instead.\n",
      "  _log_warning(\"'early_stopping_rounds' argument is deprecated and will be removed in a future release of LightGBM. \"\n",
      "/opt/conda/lib/python3.7/site-packages/lightgbm/engine.py:239: UserWarning: 'verbose_eval' argument is deprecated and will be removed in a future release of LightGBM. Pass 'log_evaluation()' callback via 'callbacks' argument instead.\n",
      "  _log_warning(\"'verbose_eval' argument is deprecated and will be removed in a future release of LightGBM. \"\n"
     ]
    },
    {
     "name": "stdout",
     "output_type": "stream",
     "text": [
      "[LightGBM] [Warning] Auto-choosing col-wise multi-threading, the overhead of testing was 0.186515 seconds.\n",
      "You can set `force_col_wise=true` to remove the overhead.\n",
      "[LightGBM] [Info] Total Bins 1785\n",
      "[LightGBM] [Info] Number of data points in the train set: 1859938, number of used features: 7\n",
      "[LightGBM] [Info] Start training from score 0.000421\n",
      "Training until validation scores don't improve for 100 rounds\n",
      "[100]\tTrain's l1: 0.0149924\tValid's l1: 0.015024\n",
      "[200]\tTrain's l1: 0.014957\tValid's l1: 0.0150187\n",
      "Early stopping, best iteration is:\n",
      "[189]\tTrain's l1: 0.0149591\tValid's l1: 0.0150183\n"
     ]
    }
   ],
   "source": [
    "# train\n",
    "model = lgb.train(\n",
    "    lgbm_params,\n",
    "    lgb_train,\n",
    "    valid_sets=[lgb_train, lgb_valid],\n",
    "    valid_names=['Train', 'Valid'],\n",
    "    num_boost_round=2000,\n",
    "    early_stopping_rounds=100,\n",
    "    verbose_eval=100,\n",
    ")"
   ]
  },
  {
   "cell_type": "markdown",
   "id": "011d8eea",
   "metadata": {
    "papermill": {
     "duration": 0.040866,
     "end_time": "2022-06-05T15:42:04.335319",
     "exception": false,
     "start_time": "2022-06-05T15:42:04.294453",
     "status": "completed"
    },
    "tags": []
   },
   "source": [
    "# Predict Test Data"
   ]
  },
  {
   "cell_type": "markdown",
   "id": "ddd8dcf1",
   "metadata": {
    "papermill": {
     "duration": 0.040234,
     "end_time": "2022-06-05T15:42:04.416671",
     "exception": false,
     "start_time": "2022-06-05T15:42:04.376437",
     "status": "completed"
    },
    "tags": []
   },
   "source": []
  },
  {
   "cell_type": "code",
   "execution_count": 15,
   "id": "57679be4",
   "metadata": {
    "_cell_guid": "8b1add72-b385-4678-a889-5bb33aa0c169",
    "_uuid": "9aca67a3-f911-423c-9bc7-f797eab7b797",
    "collapsed": false,
    "execution": {
     "iopub.execute_input": "2022-06-05T15:42:04.485864Z",
     "iopub.status.busy": "2022-06-05T15:42:04.485558Z",
     "iopub.status.idle": "2022-06-05T15:42:04.507954Z",
     "shell.execute_reply": "2022-06-05T15:42:04.507327Z"
    },
    "jupyter": {
     "outputs_hidden": false
    },
    "papermill": {
     "duration": 0.056055,
     "end_time": "2022-06-05T15:42:04.509894",
     "exception": false,
     "start_time": "2022-06-05T15:42:04.453839",
     "status": "completed"
    },
    "tags": []
   },
   "outputs": [],
   "source": [
    "test_prices = pd.read_csv(Path(file_path, 'example_test_files/stock_prices.csv'))\n",
    "test_prices['date_rank'] = (pd.to_datetime(test_prices['Date']) - min_date).dt.days"
   ]
  },
  {
   "cell_type": "code",
   "execution_count": 16,
   "id": "d9774b25",
   "metadata": {
    "_cell_guid": "d78674c3-c556-488e-8062-9006249ba0cc",
    "_uuid": "b163ecdf-eb0b-4525-a469-fc35f5304f4a",
    "collapsed": false,
    "execution": {
     "iopub.execute_input": "2022-06-05T15:42:04.572962Z",
     "iopub.status.busy": "2022-06-05T15:42:04.572755Z",
     "iopub.status.idle": "2022-06-05T15:42:04.616368Z",
     "shell.execute_reply": "2022-06-05T15:42:04.615873Z"
    },
    "jupyter": {
     "outputs_hidden": false
    },
    "papermill": {
     "duration": 0.07701,
     "end_time": "2022-06-05T15:42:04.618292",
     "exception": false,
     "start_time": "2022-06-05T15:42:04.541282",
     "status": "completed"
    },
    "tags": []
   },
   "outputs": [
    {
     "data": {
      "text/plain": [
       "array([0.01281833, 0.01047946, 0.01209424, ..., 0.01363076, 0.01125501,\n",
       "       0.01259772])"
      ]
     },
     "execution_count": 16,
     "metadata": {},
     "output_type": "execute_result"
    }
   ],
   "source": [
    "# 預測出大家的target\n",
    "preds =  model.predict(test_prices[features], num_iteration=model.best_iteration)\n",
    "preds"
   ]
  },
  {
   "cell_type": "code",
   "execution_count": 17,
   "id": "4ae049b4",
   "metadata": {
    "_cell_guid": "e76a9d32-df73-49ce-b62d-87869593d8c2",
    "_uuid": "ccb1f9af-9322-4b6a-a6c1-863cce223c6a",
    "collapsed": false,
    "execution": {
     "iopub.execute_input": "2022-06-05T15:42:04.702098Z",
     "iopub.status.busy": "2022-06-05T15:42:04.701887Z",
     "iopub.status.idle": "2022-06-05T15:42:04.712839Z",
     "shell.execute_reply": "2022-06-05T15:42:04.712335Z"
    },
    "jupyter": {
     "outputs_hidden": false
    },
    "papermill": {
     "duration": 0.055393,
     "end_time": "2022-06-05T15:42:04.715402",
     "exception": false,
     "start_time": "2022-06-05T15:42:04.660009",
     "status": "completed"
    },
    "tags": []
   },
   "outputs": [
    {
     "data": {
      "text/plain": [
       "0        900\n",
       "1       2570\n",
       "2       1489\n",
       "3        319\n",
       "4        925\n",
       "        ... \n",
       "3995     556\n",
       "3996     201\n",
       "3997     409\n",
       "3998    2061\n",
       "3999    1068\n",
       "Length: 4000, dtype: int64"
      ]
     },
     "execution_count": 17,
     "metadata": {},
     "output_type": "execute_result"
    }
   ],
   "source": [
    "# 有幾個人缺值\n",
    "pd.Series(preds).fillna(target_mean).rank(ascending = False,method = 'first').astype(int)"
   ]
  },
  {
   "cell_type": "code",
   "execution_count": null,
   "id": "b5054624",
   "metadata": {
    "papermill": {
     "duration": 0.056754,
     "end_time": "2022-06-05T15:42:04.814811",
     "exception": false,
     "start_time": "2022-06-05T15:42:04.758057",
     "status": "completed"
    },
    "tags": []
   },
   "outputs": [],
   "source": []
  },
  {
   "cell_type": "markdown",
   "id": "6c689134",
   "metadata": {
    "papermill": {
     "duration": 0.031552,
     "end_time": "2022-06-05T15:42:04.878713",
     "exception": false,
     "start_time": "2022-06-05T15:42:04.847161",
     "status": "completed"
    },
    "tags": []
   },
   "source": [
    "# Submit"
   ]
  },
  {
   "cell_type": "code",
   "execution_count": 18,
   "id": "7feb7030",
   "metadata": {
    "_cell_guid": "8f707c77-253c-4cf1-8be4-3b4940c41951",
    "_uuid": "23699a9b-6617-4d50-a339-dff6aa41581a",
    "collapsed": false,
    "execution": {
     "iopub.execute_input": "2022-06-05T15:42:04.943869Z",
     "iopub.status.busy": "2022-06-05T15:42:04.943631Z",
     "iopub.status.idle": "2022-06-05T15:42:05.207028Z",
     "shell.execute_reply": "2022-06-05T15:42:05.206322Z"
    },
    "jupyter": {
     "outputs_hidden": false
    },
    "papermill": {
     "duration": 0.300168,
     "end_time": "2022-06-05T15:42:05.210480",
     "exception": false,
     "start_time": "2022-06-05T15:42:04.910312",
     "status": "completed"
    },
    "tags": []
   },
   "outputs": [
    {
     "name": "stdout",
     "output_type": "stream",
     "text": [
      "This version of the API is not optimized and should not be used to estimate the runtime of your code on the hidden test set.\n",
      "[0.01281833 0.01047946 0.01209424 ... 0.0125299  0.01306043 0.01301532]\n",
      "[0.01315223 0.01205904 0.01176459 ... 0.01363076 0.01125501 0.01259772]\n"
     ]
    }
   ],
   "source": [
    "env = jpx_tokyo_market_prediction.make_env()\n",
    "iter_test = env.iter_test()\n",
    "\n",
    "for (prices, options, financials, trades, secondary_prices, sample_prediction) in iter_test:\n",
    "    prices['date_rank'] = (pd.to_datetime(prices['Date']) - min_date).dt.days\n",
    "    preds = model.predict(prices[features], num_iteration=model.best_iteration)\n",
    "    preds = np.squeeze(preds)\n",
    "    print(preds)\n",
    "    sample_prediction[\"Prediction\"] = preds\n",
    "    sample_prediction = sample_prediction.sort_values(by = \"Prediction\", ascending=False)\n",
    "    sample_prediction.Rank = np.arange(0,2000)\n",
    "    sample_prediction = sample_prediction.sort_values(by = \"SecuritiesCode\", ascending=True)\n",
    "    sample_prediction.drop([\"Prediction\"],axis=1)\n",
    "    submission = sample_prediction[[\"Date\",\"SecuritiesCode\",\"Rank\"]]\n",
    "    env.predict(submission)"
   ]
  },
  {
   "cell_type": "code",
   "execution_count": null,
   "id": "59a44f6e",
   "metadata": {
    "papermill": {
     "duration": 0.041612,
     "end_time": "2022-06-05T15:42:05.297554",
     "exception": false,
     "start_time": "2022-06-05T15:42:05.255942",
     "status": "completed"
    },
    "tags": []
   },
   "outputs": [],
   "source": []
  }
 ],
 "metadata": {
  "kernelspec": {
   "display_name": "Python 3",
   "language": "python",
   "name": "python3"
  },
  "language_info": {
   "codemirror_mode": {
    "name": "ipython",
    "version": 3
   },
   "file_extension": ".py",
   "mimetype": "text/x-python",
   "name": "python",
   "nbconvert_exporter": "python",
   "pygments_lexer": "ipython3",
   "version": "3.7.12"
  },
  "papermill": {
   "default_parameters": {},
   "duration": 78.724828,
   "end_time": "2022-06-05T15:42:06.360989",
   "environment_variables": {},
   "exception": null,
   "input_path": "__notebook__.ipynb",
   "output_path": "__notebook__.ipynb",
   "parameters": {},
   "start_time": "2022-06-05T15:40:47.636161",
   "version": "2.3.4"
  }
 },
 "nbformat": 4,
 "nbformat_minor": 5
}
